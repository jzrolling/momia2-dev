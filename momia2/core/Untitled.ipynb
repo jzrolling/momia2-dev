{
 "cells": [
  {
   "cell_type": "code",
   "execution_count": 48,
   "id": "3f22e035-936b-44b2-a6b0-fe218904f3b2",
   "metadata": {},
   "outputs": [
    {
     "name": "stdout",
     "output_type": "stream",
     "text": [
      "/Users/jz-rolling/Desktop/DeepLearningPilot\n"
     ]
    }
   ],
   "source": [
    "cd ~/Desktop/DeepLearningPilot/"
   ]
  },
  {
   "cell_type": "code",
   "execution_count": 40,
   "id": "8ad1b87a-5ae7-4b36-9df7-30bd2a1d18d3",
   "metadata": {},
   "outputs": [],
   "source": [
    "import numpy as np, pandas as pd\n",
    "import matplotlib.pyplot as plt\n",
    "import networkx as nx\n",
    "from skimage import filters\n",
    "from scipy.stats import pearsonr\n",
    "import momia2 as mo\n",
    "import plotly.graph_objects as go\n",
    "import plotly.express as px\n",
    "from ncolor import label"
   ]
  },
  {
   "cell_type": "code",
   "execution_count": 3,
   "id": "291ec546-684c-47e5-9541-4bf516a5d2ee",
   "metadata": {},
   "outputs": [],
   "source": [
    "images = np.load('/Volumes/JZSSD_temp/20221120_NQTF/pred_results/13_0117-0214-1208_clips.npy')\n",
    "mask = np.load('/Volumes/JZSSD_temp/20221120_NQTF/pred_results/13_0117-0214-1208_omni_masks.npy')\n",
    "flow = np.load('/Volumes/JZSSD_temp/20221120_NQTF/pred_results/13_0117-0214-1208_omni_flows.npy',allow_pickle=True)"
   ]
  },
  {
   "cell_type": "code",
   "execution_count": 4,
   "id": "8380fb21-304d-433a-8b6b-31927ffd4953",
   "metadata": {
    "jupyter": {
     "source_hidden": true
    },
    "tags": []
   },
   "outputs": [],
   "source": [
    "frames = [\n",
    "    go.Frame(\n",
    "        data=px.imshow(images[i], aspect=\"auto\", color_continuous_scale=\"gray\", zmin=0,zmax=1, \n",
    "        ).data,\n",
    "        name=i,\n",
    "    )\n",
    "    for i in range(len(images))\n",
    "]\n",
    "fig = go.Figure(frames=frames)\n",
    "def frame_args(duration):\n",
    "    return {\n",
    "            \"frame\": {\"duration\": duration},\n",
    "            \"mode\": \"immediate\",\n",
    "            \"fromcurrent\": True,\n",
    "            \"transition\": {\"duration\": duration, \"easing\": \"linear\"},\n",
    "        }\n",
    "sliders = [\n",
    "            {\n",
    "                \"pad\": {\"b\": 10, \"t\": 60},\n",
    "                \"len\": 0.9,\n",
    "                \"x\": 0.1,\n",
    "                \"y\": 0,\n",
    "                \"steps\": [\n",
    "                    {\n",
    "                        \"args\": [[f.name], frame_args(0)],\n",
    "                        \"label\": str(k),\n",
    "                        \"method\": \"animate\",\n",
    "                    }\n",
    "                    for k, f in enumerate(fig.frames)\n",
    "                ],\n",
    "            }\n",
    "        ]\n",
    "\n",
    "# Layout\n",
    "fig.update_layout(\n",
    "         title='Slices in volumetric data',\n",
    "         width=600,\n",
    "         height=600,\n",
    "         scene=dict(aspectratio=dict(x=1, y=1)),\n",
    "         updatemenus = [\n",
    "            {\n",
    "                \"buttons\": [\n",
    "                    {\n",
    "                        \"args\": [None, frame_args(50)],\n",
    "                        \"label\": \"&#9654;\", # play symbol\n",
    "                        \"method\": \"animate\",\n",
    "                    },\n",
    "                    {\n",
    "                        \"args\": [[None], frame_args(0)],\n",
    "                        \"label\": \"&#9724;\", # pause symbol\n",
    "                        \"method\": \"animate\",\n",
    "                    },\n",
    "                ],\n",
    "                \"direction\": \"left\",\n",
    "                \"pad\": {\"r\": 10, \"t\": 70},\n",
    "                \"type\": \"buttons\",\n",
    "                \"x\": 0.1,\n",
    "                \"y\": 0,\n",
    "            }\n",
    "         ],\n",
    "         sliders=sliders\n",
    ")\n",
    "# Add data to be displayed before animation starts\n",
    "fig.write_html('first_figure.html', auto_open=True)"
   ]
  },
  {
   "cell_type": "code",
   "execution_count": 5,
   "id": "f2aa815e-5a15-422b-a366-3f143424b959",
   "metadata": {
    "tags": []
   },
   "outputs": [],
   "source": [
    "%matplotlib ipympl"
   ]
  },
  {
   "cell_type": "code",
   "execution_count": 46,
   "id": "d18ea89d-332f-42b3-a7e6-8122c3d4e488",
   "metadata": {
    "tags": []
   },
   "outputs": [
    {
     "ename": "TypeError",
     "evalue": "extract_midlines() got an unexpected keyword argument 'contour_key'",
     "output_type": "error",
     "traceback": [
      "\u001b[0;31m---------------------------------------------------------------------------\u001b[0m",
      "\u001b[0;31mTypeError\u001b[0m                                 Traceback (most recent call last)",
      "\u001b[0;32m/var/folders/wk/f42tr5tj0hq3sf4g8x9qng640000gn/T/ipykernel_26828/2053271411.py\u001b[0m in \u001b[0;36m<module>\u001b[0;34m\u001b[0m\n\u001b[1;32m     14\u001b[0m     \u001b[0mp\u001b[0m\u001b[0;34m.\u001b[0m\u001b[0mprob_mask\u001b[0m \u001b[0;34m=\u001b[0m \u001b[0mprob_mask\u001b[0m\u001b[0;34m\u001b[0m\u001b[0;34m\u001b[0m\u001b[0m\n\u001b[1;32m     15\u001b[0m     \u001b[0mp\u001b[0m\u001b[0;34m.\u001b[0m\u001b[0mlocate_particles\u001b[0m\u001b[0;34m(\u001b[0m\u001b[0mprecompute_contours\u001b[0m\u001b[0;34m=\u001b[0m\u001b[0;32mTrue\u001b[0m\u001b[0;34m)\u001b[0m\u001b[0;34m\u001b[0m\u001b[0;34m\u001b[0m\u001b[0m\n\u001b[0;32m---> 16\u001b[0;31m     \u001b[0mp\u001b[0m\u001b[0;34m.\u001b[0m\u001b[0mextract_midlines\u001b[0m\u001b[0;34m(\u001b[0m\u001b[0mcontour_key\u001b[0m\u001b[0;34m=\u001b[0m\u001b[0;34m'$contours'\u001b[0m\u001b[0;34m)\u001b[0m\u001b[0;34m\u001b[0m\u001b[0;34m\u001b[0m\u001b[0m\n\u001b[0m\u001b[1;32m     17\u001b[0m     \u001b[0mframes\u001b[0m\u001b[0;34m.\u001b[0m\u001b[0mappend\u001b[0m\u001b[0;34m(\u001b[0m\u001b[0mp\u001b[0m\u001b[0;34m)\u001b[0m\u001b[0;34m\u001b[0m\u001b[0;34m\u001b[0m\u001b[0m\n\u001b[1;32m     18\u001b[0m \u001b[0;34m\u001b[0m\u001b[0m\n",
      "\u001b[0;31mTypeError\u001b[0m: extract_midlines() got an unexpected keyword argument 'contour_key'"
     ]
    }
   ],
   "source": [
    "frames=[]\n",
    "for i in range(18,90):\n",
    "    p=mo.Patch()\n",
    "    p.load_data(i,{'C1':images[i]},\n",
    "                    ref_channel='C1')\n",
    "    labeled_mask = mask[i]\n",
    "    p.mask = labeled_mask>0\n",
    "    p.labeled_mask = labeled_mask\n",
    "    h,w = labeled_mask.shape\n",
    "    prob_mask = np.zeros([h,w,3])\n",
    "    prob_mask[:,:,2] = flow[i][2]\n",
    "    prob_mask[:,:,0] = 1-p.mask\n",
    "    prob_mask[:,:,1] = filters.sobel(images[i,1])\n",
    "    p.prob_mask = prob_mask\n",
    "    p.locate_particles(precompute_contours=True)\n",
    "    p.extract_midlines(contour_key='$contours')\n",
    "    frames.append(p)\n",
    "\n",
    "\n",
    "tracker_msm = mo.core.CellTracker(frames,np.arange(len(frames)),\n",
    "                              None,\n",
    "                              verbose=False,\n",
    "                              seed_prob_min=0.35,\n",
    "                              edge_prob_max=0.90,\n",
    "                              backtrack_generations=2,\n",
    "                              max_iter=1,\n",
    "                              min_cell_size=100,\n",
    "                              min_overlap_area=80,\n",
    "                              min_overlap_threshold=0.3,\n",
    "                              min_size_similarity=0.7,\n",
    "                              no_split=False,hard_split=True)\n",
    "last_area = None\n",
    "tracker_msm.trace_by_overlap()\n",
    "tracker_msm.trace_lineage()"
   ]
  },
  {
   "cell_type": "code",
   "execution_count": 47,
   "id": "9bace6f4-ac11-4a5e-9ca5-9233831aca59",
   "metadata": {},
   "outputs": [
    {
     "data": {
      "text/plain": [
       "0"
      ]
     },
     "execution_count": 47,
     "metadata": {},
     "output_type": "execute_result"
    },
    {
     "data": {
      "application/vnd.jupyter.widget-view+json": {
       "model_id": "5f44fb85d65d4f12a7e609c0552aaf2a",
       "version_major": 2,
       "version_minor": 0
      },
      "image/png": "[encoded data removed]",
      "text/html": [
       "\n",
       "            <div style=\"display: inline-block;\">\n",
       "                <div class=\"jupyter-widgets widget-label\" style=\"text-align: center;\">\n",
       "                    Figure\n",
       "                </div>\n",
       "                <img src='data:image/png;base64,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' width=400.0/>\n",
       "            </div>\n",
       "        "
      ],
      "text/plain": [
       "Canvas(toolbar=Toolbar(toolitems=[('Home', 'Reset original view', 'home', 'home'), ('Back', 'Back to previous …"
      ]
     },
     "metadata": {},
     "output_type": "display_data"
    }
   ],
   "source": [
    "import matplotlib.pyplot as plt\n",
    "import numpy as np\n",
    "from matplotlib.widgets import Slider, Button\n",
    "fig, ax = plt.subplots(figsize=(4,4))\n",
    "fig.subplots_adjust(bottom=0.2)\n",
    "\n",
    "axframe = fig.add_axes([0.2, 0.1, 0.65, 0.03])\n",
    "\n",
    "frame_slider = Slider(\n",
    "    ax=axframe,\n",
    "    label='Frame ',\n",
    "    valmin=0,\n",
    "    valmax=len(images)-1,\n",
    "    valinit=0,\n",
    "    valstep=1\n",
    ")\n",
    "\n",
    "def update(val):\n",
    "    ax.imshow(label(mask[int(frame_slider.val)]))\n",
    "    fig.canvas.draw_idle()\n",
    "    \n",
    "forward_ax = fig.add_axes([0.7, 0.025, 0.15, 0.04])\n",
    "backward_ax = fig.add_axes([0.5, 0.025, 0.15, 0.04])\n",
    "button1 = Button(forward_ax, 'Next', hovercolor='0.975')\n",
    "button2 = Button(backward_ax, 'Previous', hovercolor='0.975')\n",
    "\n",
    "\n",
    "def forward(event):\n",
    "    frame_slider.set_val(frame_slider.val+1)\n",
    "    update(frame_slider.val)\n",
    "    \n",
    "def backward(event):\n",
    "    frame_slider.set_val(frame_slider.val-1)\n",
    "    update(frame_slider.val)\n",
    "    \n",
    "    \n",
    "button1.on_clicked(forward)\n",
    "button2.on_clicked(backward)\n",
    "frame_slider.on_changed(update)"
   ]
  },
  {
   "cell_type": "code",
   "execution_count": 37,
   "id": "337d70cf-967d-43f9-8445-46c87c23884a",
   "metadata": {
    "tags": []
   },
   "outputs": [
    {
     "name": "stdout",
     "output_type": "stream",
     "text": [
      "Help on class Slider in module matplotlib.widgets:\n",
      "\n",
      "class Slider(SliderBase)\n",
      " |  Slider(ax, label, valmin, valmax, valinit=0.5, valfmt=None, closedmin=True, closedmax=True, slidermin=None, slidermax=None, dragging=True, valstep=None, orientation='horizontal', *, initcolor='r', track_color='lightgrey', handle_style=None, **kwargs)\n",
      " |  \n",
      " |  A slider representing a floating point range.\n",
      " |  \n",
      " |  Create a slider from *valmin* to *valmax* in Axes *ax*. For the slider to\n",
      " |  remain responsive you must maintain a reference to it. Call\n",
      " |  :meth:`on_changed` to connect to the slider event.\n",
      " |  \n",
      " |  Attributes\n",
      " |  ----------\n",
      " |  val : float\n",
      " |      Slider value.\n",
      " |  \n",
      " |  Method resolution order:\n",
      " |      Slider\n",
      " |      SliderBase\n",
      " |      AxesWidget\n",
      " |      Widget\n",
      " |      builtins.object\n",
      " |  \n",
      " |  Methods defined here:\n",
      " |  \n",
      " |  __init__(self, ax, label, valmin, valmax, valinit=0.5, valfmt=None, closedmin=True, closedmax=True, slidermin=None, slidermax=None, dragging=True, valstep=None, orientation='horizontal', *, initcolor='r', track_color='lightgrey', handle_style=None, **kwargs)\n",
      " |      Parameters\n",
      " |      ----------\n",
      " |      ax : Axes\n",
      " |          The Axes to put the slider in.\n",
      " |      \n",
      " |      label : str\n",
      " |          Slider label.\n",
      " |      \n",
      " |      valmin : float\n",
      " |          The minimum value of the slider.\n",
      " |      \n",
      " |      valmax : float\n",
      " |          The maximum value of the slider.\n",
      " |      \n",
      " |      valinit : float, default: 0.5\n",
      " |          The slider initial position.\n",
      " |      \n",
      " |      valfmt : str, default: None\n",
      " |          %-format string used to format the slider value.  If None, a\n",
      " |          `.ScalarFormatter` is used instead.\n",
      " |      \n",
      " |      closedmin : bool, default: True\n",
      " |          Whether the slider interval is closed on the bottom.\n",
      " |      \n",
      " |      closedmax : bool, default: True\n",
      " |          Whether the slider interval is closed on the top.\n",
      " |      \n",
      " |      slidermin : Slider, default: None\n",
      " |          Do not allow the current slider to have a value less than\n",
      " |          the value of the Slider *slidermin*.\n",
      " |      \n",
      " |      slidermax : Slider, default: None\n",
      " |          Do not allow the current slider to have a value greater than\n",
      " |          the value of the Slider *slidermax*.\n",
      " |      \n",
      " |      dragging : bool, default: True\n",
      " |          If True the slider can be dragged by the mouse.\n",
      " |      \n",
      " |      valstep : float or array-like, default: None\n",
      " |          If a float, the slider will snap to multiples of *valstep*.\n",
      " |          If an array the slider will snap to the values in the array.\n",
      " |      \n",
      " |      orientation : {'horizontal', 'vertical'}, default: 'horizontal'\n",
      " |          The orientation of the slider.\n",
      " |      \n",
      " |      initcolor : color, default: 'r'\n",
      " |          The color of the line at the *valinit* position. Set to ``'none'``\n",
      " |          for no line.\n",
      " |      \n",
      " |      track_color : color, default: 'lightgrey'\n",
      " |          The color of the background track. The track is accessible for\n",
      " |          further styling via the *track* attribute.\n",
      " |      \n",
      " |      handle_style : dict\n",
      " |          Properties of the slider handle. Default values are\n",
      " |      \n",
      " |          ========= ===== ======= ========================================\n",
      " |          Key       Value Default Description\n",
      " |          ========= ===== ======= ========================================\n",
      " |          facecolor color 'white' The facecolor of the slider handle.\n",
      " |          edgecolor color '.75'   The edgecolor of the slider handle.\n",
      " |          size      int   10      The size of the slider handle in points.\n",
      " |          ========= ===== ======= ========================================\n",
      " |      \n",
      " |          Other values will be transformed as marker{foo} and passed to the\n",
      " |          `~.Line2D` constructor. e.g. ``handle_style = {'style'='x'}`` will\n",
      " |          result in ``markerstyle = 'x'``.\n",
      " |      \n",
      " |      Notes\n",
      " |      -----\n",
      " |      Additional kwargs are passed on to ``self.poly`` which is the\n",
      " |      `~matplotlib.patches.Polygon` that draws the slider knob.  See the\n",
      " |      `.Polygon` documentation for valid property names (``facecolor``,\n",
      " |      ``edgecolor``, ``alpha``, etc.).\n",
      " |  \n",
      " |  on_changed(self, func)\n",
      " |      Connect *func* as callback function to changes of the slider value.\n",
      " |      \n",
      " |      Parameters\n",
      " |      ----------\n",
      " |      func : callable\n",
      " |          Function to call when slider is changed.\n",
      " |          The function must accept a single float as its arguments.\n",
      " |      \n",
      " |      Returns\n",
      " |      -------\n",
      " |      int\n",
      " |          Connection id (which can be used to disconnect *func*).\n",
      " |  \n",
      " |  set_val(self, val)\n",
      " |      Set slider value to *val*.\n",
      " |      \n",
      " |      Parameters\n",
      " |      ----------\n",
      " |      val : float\n",
      " |  \n",
      " |  ----------------------------------------------------------------------\n",
      " |  Methods inherited from SliderBase:\n",
      " |  \n",
      " |  disconnect(self, cid)\n",
      " |      Remove the observer with connection id *cid*.\n",
      " |      \n",
      " |      Parameters\n",
      " |      ----------\n",
      " |      cid : int\n",
      " |          Connection id of the observer to be removed.\n",
      " |  \n",
      " |  reset(self)\n",
      " |      Reset the slider to the initial value.\n",
      " |  \n",
      " |  ----------------------------------------------------------------------\n",
      " |  Methods inherited from AxesWidget:\n",
      " |  \n",
      " |  connect_event(self, event, callback)\n",
      " |      Connect a callback function with an event.\n",
      " |      \n",
      " |      This should be used in lieu of ``figure.canvas.mpl_connect`` since this\n",
      " |      function stores callback ids for later clean up.\n",
      " |  \n",
      " |  disconnect_events(self)\n",
      " |      Disconnect all events created by this widget.\n",
      " |  \n",
      " |  ----------------------------------------------------------------------\n",
      " |  Methods inherited from Widget:\n",
      " |  \n",
      " |  get_active(self)\n",
      " |      Get whether the widget is active.\n",
      " |  \n",
      " |  ignore(self, event)\n",
      " |      Return whether *event* should be ignored.\n",
      " |      \n",
      " |      This method should be called at the beginning of any event callback.\n",
      " |  \n",
      " |  set_active(self, active)\n",
      " |      Set whether the widget is active.\n",
      " |  \n",
      " |  ----------------------------------------------------------------------\n",
      " |  Data descriptors inherited from Widget:\n",
      " |  \n",
      " |  __dict__\n",
      " |      dictionary for instance variables (if defined)\n",
      " |  \n",
      " |  __weakref__\n",
      " |      list of weak references to the object (if defined)\n",
      " |  \n",
      " |  active\n",
      " |      Is the widget active?\n",
      " |  \n",
      " |  ----------------------------------------------------------------------\n",
      " |  Data and other attributes inherited from Widget:\n",
      " |  \n",
      " |  drawon = True\n",
      " |  \n",
      " |  eventson = True\n",
      "\n"
     ]
    }
   ],
   "source": [
    "help(Slider)"
   ]
  },
  {
   "cell_type": "code",
   "execution_count": 15,
   "id": "7ee2e371-edf6-4c0d-abd2-a22612eb5e84",
   "metadata": {},
   "outputs": [
    {
     "name": "stdout",
     "output_type": "stream",
     "text": [
      "Collecting jupyterlab_widgets\n",
      "  Using cached jupyterlab_widgets-3.0.5-py3-none-any.whl (384 kB)\n",
      "Installing collected packages: jupyterlab-widgets\n",
      "Successfully installed jupyterlab-widgets-3.0.5\n"
     ]
    }
   ],
   "source": [
    "!pip install jupyterlab_widgets"
   ]
  },
  {
   "cell_type": "code",
   "execution_count": null,
   "id": "f003190c-f730-465a-8004-1104ed377679",
   "metadata": {
    "collapsed": true,
    "jupyter": {
     "outputs_hidden": true
    },
    "tags": []
   },
   "outputs": [
    {
     "name": "stdout",
     "output_type": "stream",
     "text": [
      "Found existing installation: jupyterlab-widgets 1.1.1\n",
      "Uninstalling jupyterlab-widgets-1.1.1:\n",
      "  Would remove:\n",
      "    /Users/jz-rolling/opt/anaconda3/envs/keras_pilot/lib/python3.8/site-packages/jupyterlab_widgets-1.1.1.dist-info/*\n",
      "    /Users/jz-rolling/opt/anaconda3/envs/keras_pilot/lib/python3.8/site-packages/jupyterlab_widgets/*\n",
      "    /Users/jz-rolling/opt/anaconda3/envs/keras_pilot/share/jupyter/labextensions/@jupyter-widgets/jupyterlab-manager/install.json\n",
      "    /Users/jz-rolling/opt/anaconda3/envs/keras_pilot/share/jupyter/labextensions/@jupyter-widgets/jupyterlab-manager/package.json\n",
      "    /Users/jz-rolling/opt/anaconda3/envs/keras_pilot/share/jupyter/labextensions/@jupyter-widgets/jupyterlab-manager/schemas/@jupyter-widgets/jupyterlab-manager/package.json.orig\n",
      "    /Users/jz-rolling/opt/anaconda3/envs/keras_pilot/share/jupyter/labextensions/@jupyter-widgets/jupyterlab-manager/schemas/@jupyter-widgets/jupyterlab-manager/plugin.json\n",
      "    /Users/jz-rolling/opt/anaconda3/envs/keras_pilot/share/jupyter/labextensions/@jupyter-widgets/jupyterlab-manager/static/1.6c3ab69171002cbfa04f.js\n",
      "    /Users/jz-rolling/opt/anaconda3/envs/keras_pilot/share/jupyter/labextensions/@jupyter-widgets/jupyterlab-manager/static/18.c756b86bf6ebd74dab7b.js\n",
      "    /Users/jz-rolling/opt/anaconda3/envs/keras_pilot/share/jupyter/labextensions/@jupyter-widgets/jupyterlab-manager/static/243.6c384ff2649ef572a18a.js\n",
      "    /Users/jz-rolling/opt/anaconda3/envs/keras_pilot/share/jupyter/labextensions/@jupyter-widgets/jupyterlab-manager/static/272.3fcd6d7045eecfb56da6.js\n",
      "    /Users/jz-rolling/opt/anaconda3/envs/keras_pilot/share/jupyter/labextensions/@jupyter-widgets/jupyterlab-manager/static/279.aa88a78c8bf62c65db54.js\n",
      "    /Users/jz-rolling/opt/anaconda3/envs/keras_pilot/share/jupyter/labextensions/@jupyter-widgets/jupyterlab-manager/static/466.f77b3df99f049604bce9.js\n",
      "    /Users/jz-rolling/opt/anaconda3/envs/keras_pilot/share/jupyter/labextensions/@jupyter-widgets/jupyterlab-manager/static/523.66fca84c7924f6f7676d.js\n",
      "    /Users/jz-rolling/opt/anaconda3/envs/keras_pilot/share/jupyter/labextensions/@jupyter-widgets/jupyterlab-manager/static/638.f3e5e34a28f3334d4f08.js\n",
      "    /Users/jz-rolling/opt/anaconda3/envs/keras_pilot/share/jupyter/labextensions/@jupyter-widgets/jupyterlab-manager/static/638.f3e5e34a28f3334d4f08.js.LICENSE.txt\n",
      "    /Users/jz-rolling/opt/anaconda3/envs/keras_pilot/share/jupyter/labextensions/@jupyter-widgets/jupyterlab-manager/static/803.b7b75bd6e7977a648c67.js\n",
      "    /Users/jz-rolling/opt/anaconda3/envs/keras_pilot/share/jupyter/labextensions/@jupyter-widgets/jupyterlab-manager/static/86.970ef07abcc86672015c.js\n",
      "    /Users/jz-rolling/opt/anaconda3/envs/keras_pilot/share/jupyter/labextensions/@jupyter-widgets/jupyterlab-manager/static/95.b5a5ff10000a6051fa99.js\n",
      "    /Users/jz-rolling/opt/anaconda3/envs/keras_pilot/share/jupyter/labextensions/@jupyter-widgets/jupyterlab-manager/static/95.b5a5ff10000a6051fa99.js.LICENSE.txt\n",
      "    /Users/jz-rolling/opt/anaconda3/envs/keras_pilot/share/jupyter/labextensions/@jupyter-widgets/jupyterlab-manager/static/remoteEntry.1bd01b57743def902f73.js\n",
      "    /Users/jz-rolling/opt/anaconda3/envs/keras_pilot/share/jupyter/labextensions/@jupyter-widgets/jupyterlab-manager/static/style.js\n",
      "Proceed (Y/n)? "
     ]
    }
   ],
   "source": [
    "!pip uninstall jupyterlab_widgets"
   ]
  },
  {
   "cell_type": "code",
   "execution_count": null,
   "id": "be4718ab-5a92-4bc2-af99-3b7585b05eb2",
   "metadata": {},
   "outputs": [
    {
     "name": "stdout",
     "output_type": "stream",
     "text": [
      "/bin/bash: y: command not found\n"
     ]
    }
   ],
   "source": [
    "!y"
   ]
  },
  {
   "cell_type": "code",
   "execution_count": null,
   "id": "70152688-ab10-4d3e-93d2-7a80d9cbb989",
   "metadata": {},
   "outputs": [],
   "source": []
  }
 ],
 "metadata": {
  "kernelspec": {
   "display_name": "Python 3 (ipykernel)",
   "language": "python",
   "name": "python3"
  },
  "language_info": {
   "codemirror_mode": {
    "name": "ipython",
    "version": 3
   },
   "file_extension": ".py",
   "mimetype": "text/x-python",
   "name": "python",
   "nbconvert_exporter": "python",
   "pygments_lexer": "ipython3",
   "version": "3.8.12"
  }
 },
 "nbformat": 4,
 "nbformat_minor": 5
}
